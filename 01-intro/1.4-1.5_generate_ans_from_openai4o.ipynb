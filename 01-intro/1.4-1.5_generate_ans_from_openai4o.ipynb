{
 "cells": [
  {
   "cell_type": "markdown",
   "metadata": {},
   "source": [
    "# RAG using OpenAI 4o as LLM"
   ]
  },
  {
   "cell_type": "markdown",
   "metadata": {},
   "source": [
    "# Import"
   ]
  },
  {
   "cell_type": "code",
   "execution_count": 21,
   "metadata": {},
   "outputs": [],
   "source": [
    "import json\n",
    "import minsearch\n",
    "from openai import OpenAI"
   ]
  },
  {
   "cell_type": "markdown",
   "metadata": {},
   "source": [
    "# Implementation"
   ]
  },
  {
   "cell_type": "markdown",
   "metadata": {},
   "source": [
    "## No context"
   ]
  },
  {
   "cell_type": "code",
   "execution_count": 2,
   "metadata": {},
   "outputs": [],
   "source": [
    "client = OpenAI()"
   ]
  },
  {
   "cell_type": "code",
   "execution_count": 4,
   "metadata": {},
   "outputs": [],
   "source": [
    "q = 'the course has already started, can I still enroll?'\n",
    "\n",
    "response = client.chat.completions.create(\n",
    "    model=\"gpt-4o\",\n",
    "    messages=[\n",
    "        {\"role\": \"user\", \"content\": q}\n",
    "    ]\n",
    ")"
   ]
  },
  {
   "cell_type": "code",
   "execution_count": 5,
   "metadata": {},
   "outputs": [
    {
     "data": {
      "text/plain": [
       "\"The ability to enroll in a course after it has already started often depends on the specific policies of the institution offering the course. Here are a few steps you can take to find out:\\n\\n1. **Check the Enrollment Policy:** Visit the course or institution's website to review their enrollment policies. Some schools or online platforms allow late enrollments within a certain time frame.\\n\\n2. **Contact the Instructor or Administration:** Reach out directly to the course instructor or the administration office to inquire about the possibility of late enrollment. They may make exceptions based on individual circumstances.\\n\\n3. **Look for Add/Drop Deadlines:** Many educational institutions have specific deadlines for adding or dropping courses. Verify if you're still within this period.\\n\\n4. **Consider Catching Up:** If you're allowed to enroll late, be prepared to catch up on any missed coursework. Ask the instructor for any available resources that can help you get up to speed.\\n\\n5. **Explore Audit Options:** In some cases, if regular enrollment is not an option, you might be able to audit the course. This means you can participate without receiving formal credit.\\n\\nIf you need assistance with specific contact details or navigating an institution's website, feel free to provide more information, and I'll do my best to guide you.\""
      ]
     },
     "execution_count": 5,
     "metadata": {},
     "output_type": "execute_result"
    }
   ],
   "source": [
    "response.choices[0].message.content\n",
    "# The response is not reading from the knowledge base"
   ]
  },
  {
   "cell_type": "markdown",
   "metadata": {},
   "source": [
    "## With context"
   ]
  },
  {
   "cell_type": "code",
   "execution_count": 23,
   "metadata": {},
   "outputs": [
    {
     "data": {
      "text/plain": [
       "<minsearch.Index at 0x78f370af61a0>"
      ]
     },
     "execution_count": 23,
     "metadata": {},
     "output_type": "execute_result"
    }
   ],
   "source": [
    "with open('faq_documents.json', 'rt') as f_in:\n",
    "    docs_raw = json.load(f_in)\n",
    "\n",
    "# Merge all faq from 3 coureses into one list\n",
    "documents = []\n",
    "\n",
    "for course_dict in docs_raw:\n",
    "    for doc in course_dict['documents']:\n",
    "        doc['course'] = course_dict['course']\n",
    "        documents.append(doc)\n",
    "\n",
    "index = minsearch.Index(\n",
    "    text_fields=[\"question\", \"text\", \"section\"],\n",
    "    keyword_fields=[\"course\"]\n",
    ")\n",
    "# SELECT * WHERE course = 'data-engineering-zoomcamp';\n",
    "index.fit(documents)"
   ]
  },
  {
   "cell_type": "code",
   "execution_count": 24,
   "metadata": {},
   "outputs": [],
   "source": [
    "def search(query):\n",
    "    boost = {'question': 3.0, 'section': 0.5}\n",
    "\n",
    "    results = index.search(\n",
    "        query=query,\n",
    "        filter_dict={'course': 'data-engineering-zoomcamp'},\n",
    "        boost_dict=boost,\n",
    "        num_results=5\n",
    "    )\n",
    "\n",
    "    return results"
   ]
  },
  {
   "cell_type": "code",
   "execution_count": 25,
   "metadata": {},
   "outputs": [],
   "source": [
    "def build_prompt(query, search_results):\n",
    "    prompt_template = \"\"\"\n",
    "You're a course teaching assistant. Answer the QUESTION based on the CONTEXT from the FAQ database.\n",
    "Use only the facts from the CONTEXT when answering the QUESTION.\n",
    "\n",
    "QUESTION: {question}\n",
    "\n",
    "CONTEXT: \n",
    "{context}\n",
    "\"\"\".strip()\n",
    "\n",
    "    context = \"\"\n",
    "    \n",
    "    for doc in search_results:\n",
    "        context = context + f\"section: {doc['section']}\\nquestion: {doc['question']}\\nanswer: {doc['text']}\\n\\n\"\n",
    "    \n",
    "    prompt = prompt_template.format(question=query, context=context).strip()\n",
    "    return prompt"
   ]
  },
  {
   "cell_type": "code",
   "execution_count": 26,
   "metadata": {},
   "outputs": [],
   "source": [
    "def llm(prompt):\n",
    "    response = client.chat.completions.create(\n",
    "        model='gpt-4o',\n",
    "        messages=[{\"role\": \"user\", \"content\": prompt}]\n",
    "    )\n",
    "    \n",
    "    return response.choices[0].message.content"
   ]
  },
  {
   "cell_type": "code",
   "execution_count": 27,
   "metadata": {},
   "outputs": [],
   "source": [
    "def rag(query):\n",
    "    search_results = search(query)\n",
    "    prompt = build_prompt(query, search_results)\n",
    "    answer = llm(prompt)\n",
    "    return answer"
   ]
  },
  {
   "cell_type": "code",
   "execution_count": 30,
   "metadata": {},
   "outputs": [
    {
     "name": "stdout",
     "output_type": "stream",
     "text": [
      "The provided CONTEXT does not give a direct response to the specific question of \"How to run Mage.\" However, based on the FAQ information given, here are some essential steps and considerations that could be relevant for setting up and running Mage:\n",
      "\n",
      "1. **Running Mage with Docker:**\n",
      "   - When configuring Mage with Docker and facing issues like containers exiting instantly with code 132, it could be due to \"older architecture.\" This might be a hardware issue. If encountering this, you may consider using a Virtual Machine (VM) as an alternative solution.\n",
      "\n",
      "2. **Authentication Issues:**\n",
      "   - Ensure proper Google Cloud authentication if you encounter issues such as `OSError`. You need a valid OAuth2 access token to authenticate the request. You can learn more about Google Cloud authentication at [this link](https://cloud.google.com/docs/authentication).\n",
      "\n",
      "3. **Data Storage and PySpark:**\n",
      "   - If you are planning to trigger Dataproc from Mage, follow these steps:\n",
      "     1. Ensure your PySpark script is ready.\n",
      "     2. Create a Dataproc Cluster in the GCP Console.\n",
      "     3. Edit the service account to add the Dataproc Editor role.\n",
      "     4. Place your PySpark script in the GCS bucket.\n",
      "     5. Ensure the `gcloud` CLI is installed to let Mage access Google Dataproc and execute the script.\n",
      "     6. Refer to relevant BigQuery/Dataproc script guidelines here: [Dataproc script](https://github.com/DataTalksClub/data-engineering-zoomcamp/blob/main/05-batch/code/cloud.md).\n",
      "\n",
      "If you are experiencing a specific issue or need additional details, it might be helpful to refer to the Mage documentation or the appropriate course materials provided in your module.\n"
     ]
    }
   ],
   "source": [
    "print(rag(\"How to run Mage?\"))"
   ]
  },
  {
   "cell_type": "code",
   "execution_count": 31,
   "metadata": {},
   "outputs": [
    {
     "name": "stdout",
     "output_type": "stream",
     "text": [
      "Yes, even if the course has already started, you can still enroll. You will be eligible to submit the homework, but be aware that there will be deadlines for turning in the final projects, so it's advisable not to leave everything until the last minute.\n"
     ]
    }
   ],
   "source": [
    "print(rag(\"the course has already started, can I still enroll?\"))"
   ]
  }
 ],
 "metadata": {
  "kernelspec": {
   "display_name": "Python 3",
   "language": "python",
   "name": "python3"
  },
  "language_info": {
   "codemirror_mode": {
    "name": "ipython",
    "version": 3
   },
   "file_extension": ".py",
   "mimetype": "text/x-python",
   "name": "python",
   "nbconvert_exporter": "python",
   "pygments_lexer": "ipython3",
   "version": "3.10.13"
  }
 },
 "nbformat": 4,
 "nbformat_minor": 2
}
